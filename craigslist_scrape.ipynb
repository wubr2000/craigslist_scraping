{
 "cells": [
  {
   "cell_type": "markdown",
   "metadata": {
    "collapsed": true
   },
   "source": [
    "## Overview\n",
    "In this notebook, I'll show you how to make a simple query on Craigslist using some nifty python modules. You can take advantage of all the structure data that exists on webpages to collect interesting datasets."
   ]
  },
  {
   "cell_type": "code",
   "execution_count": 1,
   "metadata": {
    "collapsed": false
   },
   "outputs": [
    {
     "name": "stdout",
     "output_type": "stream",
     "text": [
      "Populating the interactive namespace from numpy and matplotlib\n"
     ]
    }
   ],
   "source": [
    "import pandas as pd\n",
    "%pylab inline"
   ]
  },
  {
   "cell_type": "markdown",
   "metadata": {},
   "source": [
    "First we need to figure out how to submit a query to Craigslist. As with many websites, one way you can do this is simply by constructing the proper URL and sending it to Craigslist. Here's a sample URL that is returned after manually typing in a search to Craigslist:\n",
    "> `http://sfbay.craigslist.org/search/eby/apa?bedrooms=1&pets_cat=1&pets_dog=1&is_furnished=1`\n",
    "\n",
    "This is actually two separate things. The first tells craigslist what kind of thing we're searching for:\n",
    "\n",
    "> `http://sfbay.craigslist.org/search/eby/apa` says we're searching in the sfbay area (`sfbay`) for apartments (`apa`) in the east bay (`eby`).\n",
    "\n",
    "The second part contains the parameters that we pass to the search:\n",
    "\n",
    "> `?bedrooms=1&pets_cat=1&pets_dog=1&is_furnished=1` says we want 1+ bedrooms, cats allowed, dogs allowed, and furnished apartments. You can manually change these fields in order to create new queries.\n",
    "\n",
    "## Getting a single posting\n",
    "\n",
    "So, we'll use this knowledge to send some custom URLs to Craigslist. We'll do this using the `requests` python module, which is really useful for querying websites."
   ]
  },
  {
   "cell_type": "code",
   "execution_count": 2,
   "metadata": {
    "collapsed": true
   },
   "outputs": [],
   "source": [
    "import requests"
   ]
  },
  {
   "cell_type": "markdown",
   "metadata": {},
   "source": [
    "In internet lingo, we're posting a `get` requests to the website, which simply says that we'd like to get some information from the Craigslist website.  With requests, we can easily create a dictionary that specifies parameters in the URL:"
   ]
  },
  {
   "cell_type": "code",
   "execution_count": 3,
   "metadata": {
    "collapsed": true
   },
   "outputs": [],
   "source": [
    "url_base = 'http://sfbay.craigslist.org/search/eby/apa'\n",
    "params = dict(bedrooms=1, is_furnished=1)\n",
    "rsp = requests.get(url_base, params=params)"
   ]
  },
  {
   "cell_type": "code",
   "execution_count": 4,
   "metadata": {
    "collapsed": false
   },
   "outputs": [
    {
     "name": "stdout",
     "output_type": "stream",
     "text": [
      "http://sfbay.craigslist.org/search/eby/apa?bedrooms=1&is_furnished=1\n"
     ]
    }
   ],
   "source": [
    "# Note that requests automatically created the right URL:\n",
    "print(rsp.url)"
   ]
  },
  {
   "cell_type": "code",
   "execution_count": 23,
   "metadata": {
    "collapsed": false
   },
   "outputs": [
    {
     "name": "stdout",
     "output_type": "stream",
     "text": [
      "<!DOCTYPE html>\n",
      "\n",
      "<html class=\"no-js\"><head>\n",
      "    <title>SF bay area apartments / housing rentals  - craigslist</title>\n",
      "\n",
      "    <meta name=\"description\" content=\"SF bay area apartments / housing rentals  - craigslist\">\n",
      "    <link rel=\"canonical\" href=\"https://sfbay.craigslist.org/search/eby/apa\">\n",
      "    <link rel=\"alternate\" type=\"application/rss+xml\" href=\"https://sfbay.craigslist.org/search/eby/apa?bedrooms=1&amp;is_furnished=1&amp;format=rss\" title=\"RSS feed for craigslist | SF bay area apartments / h\n"
     ]
    }
   ],
   "source": [
    "# We can access the content of the response that Craigslist sent back here:\n",
    "print(rsp.text[:500])"
   ]
  },
  {
   "cell_type": "markdown",
   "metadata": {},
   "source": [
    "Wow, that's a lot of code. Remember, websites serve HTML documents, and usually your browser will automatically render this into a nice webpage for you. Since we're doing this with python, we get back the raw text. This is really useful, but how can we possibly parse it all?\n",
    "\n",
    "For this, we'll turn to another great package, BeautifulSoup:"
   ]
  },
  {
   "cell_type": "code",
   "execution_count": 24,
   "metadata": {
    "collapsed": false
   },
   "outputs": [
    {
     "name": "stdout",
     "output_type": "stream",
     "text": [
      "<!DOCTYPE html>\n",
      "<html class=\"no-js\">\n",
      " <head>\n",
      "  <title>\n",
      "   SF bay area apartments / housing rentals  - craigslist\n",
      "  </title>\n",
      "  <meta content=\"SF bay area apartments / housing rentals  - craigslist\" name=\"description\">\n",
      "   <link href=\"https://sfbay.craigslist.org/search/eby/apa\" rel=\"canonical\">\n",
      "    <link href=\"https://sfbay.craigslist.org/search/eby/apa?bedrooms=1&amp;is_furnished=1&amp;format=rss\" rel=\"alternate\" title=\"RSS feed for craigslist | SF bay area apartments / housing rentals  - craigslist \" type=\"application/rss+xml\">\n",
      "     <meta content=\"initial-scale=1.0, user-scalable=1\" name=\"viewport\">\n",
      "      <link href=\"//www.craigslist.org/styles/cl.css?v=804a233c4671d1518577df0ed14ea69a\" media=\"all\" rel=\"stylesheet\" type=\"text/css\">\n",
      "       <link href=\"//www.craigslist.org/styles/tocs.css?v=9ff241f00dede652691d87d06e044903\" media=\"all\" rel=\"stylesheet\" type=\"text/css\">\n",
      "        <link href=\"//www.craigslist.org/styles/jquery-ui-1.9.2.custom.css?v=86db72e37d2cf63cab3c63485c71becb\" media=\"al\n"
     ]
    }
   ],
   "source": [
    "from bs4 import BeautifulSoup as bs4\n",
    "\n",
    "# BS4 can quickly parse our text, make sure to tell it that you're giving html\n",
    "html = bs4(rsp.text, 'html.parser')\n",
    "\n",
    "# BS makes it easy to look through a document\n",
    "print(html.prettify()[:1000])"
   ]
  },
  {
   "cell_type": "markdown",
   "metadata": {},
   "source": [
    "Beautiful soup lets us quickly search through an HTML document. We can pull out whatever information we want.\n",
    "\n",
    "Scanning through this text, we see a common structure repeated `<p class=\"row\">`. This seems to be the container that has information for a single apartment.\n",
    "\n",
    "In BeautifulSoup, we can quickly get all instances of this container:"
   ]
  },
  {
   "cell_type": "code",
   "execution_count": 8,
   "metadata": {
    "collapsed": false
   },
   "outputs": [
    {
     "name": "stdout",
     "output_type": "stream",
     "text": [
      "100\n"
     ]
    }
   ],
   "source": [
    "# find_all will pull entries that fit your search criteria.\n",
    "# Note that we have to use brackets to define the `attrs` dictionary\n",
    "# Because \"class\" is a special word in python, so we need to give a string.\n",
    "apts = html.find_all('p', attrs={'class': 'row'})\n",
    "print(len(apts))"
   ]
  },
  {
   "cell_type": "markdown",
   "metadata": {},
   "source": [
    "Now let's look inside the values of a single apartment listing:"
   ]
  },
  {
   "cell_type": "code",
   "execution_count": 9,
   "metadata": {
    "collapsed": false
   },
   "outputs": [
    {
     "name": "stdout",
     "output_type": "stream",
     "text": [
      "<p class=\"row\" data-pid=\"5196816429\">\n",
      " <a class=\"i\" data-ids=\"0:00z0z_6ExjrIcigl0,0:00P0P_ajl2aLvLzPZ,0:00505_fkV81ecr6Q7,0:00o0o_itBkVnRNB7x,0:00Z0Z_9nhz4hwSg89,0:00v0v_5e5olk84ORp,0:00o0o_gEeGCv5qex9,0:00s0s_jgjOfJN3Mnj,0:00R0R_eJ46CggAvLv,0:00F0F_lH29uVfpZuU,0:00l0l_ihXQjIr9FQd,0:00S0S_cGXG5S10Cb4,0:00d0d_j3e28Yr0qox,0:00909_5GyVUsiAmPe,0:00L0L_jsmM2yqMYyc,0:00S0S_cu9ZkDUA02b,0:00C0C_jpUCkGu1OP1\" href=\"/eby/apa/5196816429.html\">\n",
      " </a>\n",
      " <span class=\"txt\">\n",
      "  <span class=\"star\">\n",
      "  </span>\n",
      "  <span class=\"pl\">\n",
      "   <time datetime=\"2015-08-29 13:04\" title=\"Sat 29 Aug 01:04:08 PM\">\n",
      "    Aug 29\n",
      "   </time>\n",
      "   <a class=\"hdrlnk\" data-id=\"5196816429\" href=\"/eby/apa/5196816429.html\">\n",
      "    4-Bedroom home available December 20\n",
      "   </a>\n",
      "  </span>\n",
      "  <span class=\"l2\">\n",
      "   <span class=\"price\">\n",
      "    $3600\n",
      "   </span>\n",
      "   <span class=\"housing\">\n",
      "    / 4br - 1800ft\n",
      "    <sup>\n",
      "     2\n",
      "    </sup>\n",
      "    -\n",
      "   </span>\n",
      "   <span class=\"pnr\">\n",
      "    <small>\n",
      "     (alameda)\n",
      "    </small>\n",
      "    <span class=\"px\">\n",
      "     <span class=\"p\">\n",
      "      pic\n",
      "     </span>\n",
      "    </span>\n",
      "   </span>\n",
      "  </span>\n",
      "  <span class=\"js-only banish-unbanish no-mobile\">\n",
      "   [\n",
      "   <a class=\"banish\" data-pid=\"5196816429\" title=\"hide\">\n",
      "    x\n",
      "   </a>\n",
      "   <a class=\"unbanish linklike\" data-pid=\"5196816429\" title=\"unhide\">\n",
      "    undo\n",
      "   </a>\n",
      "   ]\n",
      "  </span>\n",
      " </span>\n",
      "</p>\n",
      "\n"
     ]
    }
   ],
   "source": [
    "# We can see that there's a consistent structure to a listing.\n",
    "# There is a 'time', a 'name', a 'housing' field with size/n_brs, etc.\n",
    "this_appt = apts[15]\n",
    "print(this_appt.prettify())"
   ]
  },
  {
   "cell_type": "code",
   "execution_count": 10,
   "metadata": {
    "collapsed": false
   },
   "outputs": [
    {
     "name": "stdout",
     "output_type": "stream",
     "text": [
      "/ 4br - 1800ft2 - \n"
     ]
    }
   ],
   "source": [
    "# So now we'll pull out a couple of things we might be interested in:\n",
    "# It looks like \"housing\" contains size information. We'll pull that.\n",
    "# Note that `findAll` returns a list, since there's only one entry in\n",
    "# this HTML, we'll just pull the first item.\n",
    "size = this_appt.findAll(attrs={'class': 'housing'})[0].text\n",
    "print(size)"
   ]
  },
  {
   "cell_type": "markdown",
   "metadata": {},
   "source": [
    "We can query split this into n_bedrooms and the size. However, note that sometimes one of these features might be missing. So we'll use an `if` statement to try and capture this variability:"
   ]
  },
  {
   "cell_type": "code",
   "execution_count": 11,
   "metadata": {
    "collapsed": false
   },
   "outputs": [],
   "source": [
    "def find_size_and_brs(size):\n",
    "    split = size.strip('/- ').split(' - ')\n",
    "    if len(split) == 2:\n",
    "        n_brs = split[0].replace('br', '')\n",
    "        this_size = split[1].replace('ft2', '')\n",
    "    elif 'br' in split[0]:\n",
    "        # It's the n_bedrooms\n",
    "        n_brs = split[0].replace('br', '')\n",
    "        this_size = np.nan\n",
    "    elif 'ft2' in split[0]:\n",
    "        # It's the size\n",
    "        this_size = split[0].replace('ft2', '')\n",
    "        n_brs = np.nan\n",
    "    return float(this_size), float(n_brs)\n",
    "this_size, n_brs = find_size_and_brs(size)"
   ]
  },
  {
   "cell_type": "code",
   "execution_count": 12,
   "metadata": {
    "collapsed": true
   },
   "outputs": [],
   "source": [
    "# Now we'll also pull a few other things:\n",
    "this_time = this_appt.find('time')['datetime']\n",
    "this_time = pd.to_datetime(this_time)\n",
    "this_price = float(this_appt.find('span', {'class': 'price'}).text.strip('$'))\n",
    "this_title = this_appt.find('a', attrs={'class': 'hdrlnk'}).text"
   ]
  },
  {
   "cell_type": "code",
   "execution_count": 13,
   "metadata": {
    "collapsed": false
   },
   "outputs": [
    {
     "name": "stdout",
     "output_type": "stream",
     "text": [
      "1800.0\n",
      "4.0\n",
      "2015-08-29 13:04:00\n",
      "3600.0\n",
      "4-Bedroom home available December 20\n"
     ]
    }
   ],
   "source": [
    "# Now we've got the n_bedrooms, size, price, and time of listing\n",
    "print('\\n'.join([str(i) for i in [this_size, n_brs, this_time, this_price, this_title]]))"
   ]
  },
  {
   "cell_type": "markdown",
   "metadata": {},
   "source": [
    "## Querying lots of postings\n",
    "\n",
    "Cool - so now we've got some useful information about one listing. Now let's loop through many listings across several locations.\n",
    "\n",
    "It looks like there is a \"city code\" that distinguishes where you're searching. Here is a **not** up to date list: [link](https://sites.google.com/site/clsiteinfo/city-site-code-sort)\n",
    "\n",
    "Within the Bay Area, there are also a lot of sub-regional locations, which we'll define here, then loop through them all.\n",
    "\n",
    "Note that the `s` parameter tells Craiglist where to start in terms of the number of results given back. E.g., if s==100, then it starts at the 100th entry."
   ]
  },
  {
   "cell_type": "code",
   "execution_count": 14,
   "metadata": {
    "collapsed": true
   },
   "outputs": [],
   "source": [
    "loc_prefixes = ['eby', 'nby', 'sfc', 'sby', 'scz']"
   ]
  },
  {
   "cell_type": "markdown",
   "metadata": {},
   "source": [
    "We'll define a few helper functions to handle edge cases and make sure that we don't get any errors."
   ]
  },
  {
   "cell_type": "code",
   "execution_count": 15,
   "metadata": {
    "collapsed": false
   },
   "outputs": [],
   "source": [
    "def find_prices(results):\n",
    "    prices = []\n",
    "    for rw in results:\n",
    "        price = rw.find('span', {'class': 'price'})\n",
    "        if price is not None:\n",
    "            price = float(price.text.strip('$'))\n",
    "        else:\n",
    "            price = np.nan\n",
    "        prices.append(price)\n",
    "    return prices\n",
    "\n",
    "def find_times(results):\n",
    "    times = []\n",
    "    for rw in apts:\n",
    "        if time is not None:\n",
    "            time = time['datetime']\n",
    "            time = pd.to_datetime(time)\n",
    "        else:\n",
    "            time = np.nan\n",
    "        times.append(time)\n",
    "    return times"
   ]
  },
  {
   "cell_type": "markdown",
   "metadata": {},
   "source": [
    "Now we're ready to go. We'll loop through all of our locations, and pull a number of entries for each one. We'll use a pandas dataframe to store everything, because this will be useful for future analysis.\n",
    "\n",
    "**Note** - Craigslist won't take kindly to you querying their server a bunch of times at once. Make sure not to pull too much data too quickly. Another option is to add a delay to each loop iteration. Otherwise your IP might get banned."
   ]
  },
  {
   "cell_type": "code",
   "execution_count": 16,
   "metadata": {
    "collapsed": false
   },
   "outputs": [
    {
     "name": "stdout",
     "output_type": "stream",
     "text": [
      "eby\n",
      "nby\n",
      "sfc\n",
      "sby\n",
      "scz\n"
     ]
    }
   ],
   "source": [
    "# Now loop through all of this and store the results\n",
    "results = []  # We'll store the data here\n",
    "# Careful with this...too many queries == your IP gets banned temporarily\n",
    "search_indices = np.arange(0, 300, 100)\n",
    "for loc in loc_prefixes:\n",
    "    print loc\n",
    "    for i in search_indices:\n",
    "        url = 'http://sfbay.craigslist.org/search/{0}/apa'.format(loc)\n",
    "        resp = requests.get(url, params={'bedrooms': 1, 's': i})\n",
    "        txt = bs4(resp.text, 'html.parser')\n",
    "        apts = txt.findAll(attrs={'class': \"row\"})\n",
    "        \n",
    "        # Find the size of all entries\n",
    "        size_text = [rw.findAll(attrs={'class': 'housing'})[0].text\n",
    "                     for rw in apts]\n",
    "        sizes_brs = [find_size_and_brs(stxt) for stxt in size_text]\n",
    "        sizes, n_brs = zip(*sizes_brs)  # This unzips into 2 vectors\n",
    "     \n",
    "        # Find the title and link\n",
    "        title = [rw.find('a', attrs={'class': 'hdrlnk'}).text\n",
    "                      for rw in apts]\n",
    "        links = [rw.find('a', attrs={'class': 'hdrlnk'})['href']\n",
    "                 for rw in apts]\n",
    "        \n",
    "        # Find the time\n",
    "        time = [pd.to_datetime(rw.find('time')['datetime']) for rw in apts]\n",
    "        price = find_prices(apts)\n",
    "        \n",
    "        # We'll create a dataframe to store all the data\n",
    "        data = np.array([time, price, sizes, n_brs, title, links])\n",
    "        col_names = ['time', 'price', 'size', 'brs', 'title', 'link']\n",
    "        df = pd.DataFrame(data.T, columns=col_names)\n",
    "        df = df.set_index('time')\n",
    "        \n",
    "        # Add the location variable to all entries\n",
    "        df['loc'] = loc\n",
    "        results.append(df)\n",
    "        \n",
    "# Finally, concatenate all the results\n",
    "results = pd.concat(results, axis=0)"
   ]
  },
  {
   "cell_type": "code",
   "execution_count": 17,
   "metadata": {
    "collapsed": false
   },
   "outputs": [],
   "source": [
    "# We'll make sure that the right columns are represented numerically:\n",
    "results[['price', 'size', 'brs']] = results[['price', 'size', 'brs']].convert_objects(convert_numeric=True)"
   ]
  },
  {
   "cell_type": "code",
   "execution_count": 18,
   "metadata": {
    "collapsed": false
   },
   "outputs": [
    {
     "data": {
      "text/html": [
       "<div>\n",
       "<table border=\"1\" class=\"dataframe\">\n",
       "  <thead>\n",
       "    <tr style=\"text-align: right;\">\n",
       "      <th></th>\n",
       "      <th>price</th>\n",
       "      <th>size</th>\n",
       "      <th>brs</th>\n",
       "      <th>title</th>\n",
       "      <th>link</th>\n",
       "      <th>loc</th>\n",
       "    </tr>\n",
       "    <tr>\n",
       "      <th>time</th>\n",
       "      <th></th>\n",
       "      <th></th>\n",
       "      <th></th>\n",
       "      <th></th>\n",
       "      <th></th>\n",
       "      <th></th>\n",
       "    </tr>\n",
       "  </thead>\n",
       "  <tbody>\n",
       "    <tr>\n",
       "      <th>2015-08-30 15:40:00</th>\n",
       "      <td>2187</td>\n",
       "      <td>610</td>\n",
       "      <td>1</td>\n",
       "      <td>UNIQUE LOFT! Vaulted ceilings! Granite &amp; Stain...</td>\n",
       "      <td>/eby/apa/5198406276.html</td>\n",
       "      <td>eby</td>\n",
       "    </tr>\n",
       "    <tr>\n",
       "      <th>2015-08-30 15:39:00</th>\n",
       "      <td>2600</td>\n",
       "      <td>580</td>\n",
       "      <td>1</td>\n",
       "      <td>Elmwood - College Ave between Ashby and Alcatraz</td>\n",
       "      <td>/eby/apa/5198403987.html</td>\n",
       "      <td>eby</td>\n",
       "    </tr>\n",
       "    <tr>\n",
       "      <th>2015-08-30 15:38:00</th>\n",
       "      <td>3775</td>\n",
       "      <td>1232</td>\n",
       "      <td>2</td>\n",
       "      <td>2 BEDROOM, 2 BATH CONDO AVAILABLE AT MERCER!</td>\n",
       "      <td>/eby/apa/5198395321.html</td>\n",
       "      <td>eby</td>\n",
       "    </tr>\n",
       "    <tr>\n",
       "      <th>2015-08-30 15:31:00</th>\n",
       "      <td>3023</td>\n",
       "      <td>1133</td>\n",
       "      <td>2</td>\n",
       "      <td>Stunning. Spectacular. Sprawling. This 2x2 has...</td>\n",
       "      <td>/eby/apa/5198383076.html</td>\n",
       "      <td>eby</td>\n",
       "    </tr>\n",
       "    <tr>\n",
       "      <th>2015-08-30 15:31:00</th>\n",
       "      <td>3100</td>\n",
       "      <td>NaN</td>\n",
       "      <td>3</td>\n",
       "      <td>Well mainted Fremont home with upgrades for a ...</td>\n",
       "      <td>/eby/apa/5183531302.html</td>\n",
       "      <td>eby</td>\n",
       "    </tr>\n",
       "  </tbody>\n",
       "</table>\n",
       "</div>"
      ],
      "text/plain": [
       "                     price  size  brs  \\\n",
       "time                                    \n",
       "2015-08-30 15:40:00   2187   610    1   \n",
       "2015-08-30 15:39:00   2600   580    1   \n",
       "2015-08-30 15:38:00   3775  1232    2   \n",
       "2015-08-30 15:31:00   3023  1133    2   \n",
       "2015-08-30 15:31:00   3100   NaN    3   \n",
       "\n",
       "                                                                 title  \\\n",
       "time                                                                     \n",
       "2015-08-30 15:40:00  UNIQUE LOFT! Vaulted ceilings! Granite & Stain...   \n",
       "2015-08-30 15:39:00   Elmwood - College Ave between Ashby and Alcatraz   \n",
       "2015-08-30 15:38:00       2 BEDROOM, 2 BATH CONDO AVAILABLE AT MERCER!   \n",
       "2015-08-30 15:31:00  Stunning. Spectacular. Sprawling. This 2x2 has...   \n",
       "2015-08-30 15:31:00  Well mainted Fremont home with upgrades for a ...   \n",
       "\n",
       "                                         link  loc  \n",
       "time                                                \n",
       "2015-08-30 15:40:00  /eby/apa/5198406276.html  eby  \n",
       "2015-08-30 15:39:00  /eby/apa/5198403987.html  eby  \n",
       "2015-08-30 15:38:00  /eby/apa/5198395321.html  eby  \n",
       "2015-08-30 15:31:00  /eby/apa/5198383076.html  eby  \n",
       "2015-08-30 15:31:00  /eby/apa/5183531302.html  eby  "
      ]
     },
     "execution_count": 18,
     "metadata": {},
     "output_type": "execute_result"
    }
   ],
   "source": [
    "# And there you have it:\n",
    "results.head()"
   ]
  },
  {
   "cell_type": "code",
   "execution_count": 19,
   "metadata": {
    "collapsed": false
   },
   "outputs": [
    {
     "data": {
      "text/plain": [
       "<matplotlib.text.Text at 0x1154e5550>"
      ]
     },
     "execution_count": 19,
     "metadata": {},
     "output_type": "execute_result"
    },
    {
     "data": {
      "image/png": "[encoded data removed]",
      "text/plain": [
       "<matplotlib.figure.Figure at 0x102973b90>"
      ]
     },
     "metadata": {},
     "output_type": "display_data"
    }
   ],
   "source": [
    "ax = results.hist('price', bins=np.arange(0, 10000, 100))[0, 0]\n",
    "ax.set_title('Mother of god.', fontsize=20)\n",
    "ax.set_xlabel('Price', fontsize=18)\n",
    "ax.set_ylabel('Count', fontsize=18)"
   ]
  },
  {
   "cell_type": "code",
   "execution_count": 20,
   "metadata": {
    "collapsed": true
   },
   "outputs": [],
   "source": [
    "# Finally, we can save this data to a CSV to play around with it later.\n",
    "# We'll have to remove some annoying characters first:\n",
    "import string\n",
    "use_chars = string.ascii_letters +\\\n",
    "    ''.join([str(i) for i in range(10)]) +\\\n",
    "    ' /\\.'\n",
    "results['title'] = results['title'].apply(\n",
    "    lambda a: ''.join([i for i in a if i in use_chars]))\n",
    "\n",
    "results.to_csv('../data/craigslist_results.csv')"
   ]
  },
  {
   "cell_type": "markdown",
   "metadata": {},
   "source": [
    "## RECAP\n",
    "To sum up what we just did:\n",
    "\n",
    "* We defined the ability to query a website using a custom URL. This is usually the same in structure for website, but the parameter names will be different.\n",
    "* We sent a `get` request to Craigslist using the `requests` module of python.\n",
    "* We parsed the response using `BeautifulSoup4`.\n",
    "* We then looped through a bunch of apartment listings, pulled some relevant data, and combined it all into a cleaned and usable dataframe with `pandas`.\n",
    "\n",
    "Next up I'll take a look at the data, and see if there's anything interesting to make of it."
   ]
  },
  {
   "cell_type": "markdown",
   "metadata": {},
   "source": [
    "## Bonus - auto-emailing yourself w/ notifications\n",
    "A few people have asked me about using this kind of process to make a bot that scrapes craigslist periodically. This is actually quite simple, as it basically involves pulling the top listings from craigslist, checking this against an \"old\" list, and detecting if there's anything new that has popped up since the last time you checked.\n",
    "\n",
    "Here's a simple script that will get the job done. Once again, don't pull too much data at once, and don't query Craigslist too frequently, or you're gonna get banned."
   ]
  },
  {
   "cell_type": "code",
   "execution_count": null,
   "metadata": {
    "collapsed": true
   },
   "outputs": [],
   "source": [
    "# We'll use the gmail module (there really is a module for everything in python)\n",
    "import gmail\n",
    "import time"
   ]
  },
  {
   "cell_type": "code",
   "execution_count": null,
   "metadata": {
    "collapsed": true
   },
   "outputs": [],
   "source": [
    "gm = gmail.GMail('my_username', 'my_password')\n",
    "gm.connect()\n",
    "\n",
    "# Define our URL and a query we want to post\n",
    "base_url = 'http://sfbay.craigslist.org/'\n",
    "url = base_url + 'search/eby/apa?nh=48&anh=49&nh=112&nh=58&nh=61&nh=62&nh=66&max_price=2200&bedrooms=1'\n",
    "\n",
    "# This will remove weird characters that people put in titles like ****!***!!!\n",
    "use_chars = string.ascii_letters + ''.join([str(i) for i in range(10)]) + ' '"
   ]
  },
  {
   "cell_type": "code",
   "execution_count": null,
   "metadata": {
    "collapsed": true
   },
   "outputs": [],
   "source": [
    "link_list = []  # We'll store the data here\n",
    "link_list_send = []  # This is a list of links to be sent\n",
    "send_list = []  # This is what will actually be sent in the email\n",
    "\n",
    "# Careful with this...too many queries == your IP gets banned temporarily\n",
    "while True:\n",
    "    resp = requests.get(url)\n",
    "    txt = bs4(resp.text, 'html.parser')\n",
    "    apts = txt.findAll(attrs={'class': \"row\"})\n",
    "    \n",
    "    # We're just going to pull the title and link\n",
    "    for apt in apts:\n",
    "        title = apt.find_all('a', attrs={'class': 'hdrlnk'})[0]\n",
    "        name = ''.join([i for i in title.text if i in use_chars])\n",
    "        link = title.attrs['href']\n",
    "        if link not in link_list and link not in link_list_send:\n",
    "            print('Found new listing')\n",
    "            link_list_send.append(link)\n",
    "            send_list.append(name + '  -  ' + base_url+link)\n",
    "            \n",
    "    # Flush the cache if we've found new entries\n",
    "    if len(link_list_send) > 0:\n",
    "        print('Sending mail!')\n",
    "        msg = '\\n'.join(send_list)\n",
    "        m = email.message.Message()\n",
    "        m.set_payload(msg)\n",
    "        gm.send(m, ['recipient_email@mydomain.com'])\n",
    "        link_list += link_list_send\n",
    "        link_list_send = []\n",
    "        send_list = []\n",
    "    \n",
    "    # Sleep a bit so CL doesn't ban us\n",
    "    sleep_amt = np.random.randint(60, 120)\n",
    "    time.sleep(sleep_amt)"
   ]
  },
  {
   "cell_type": "markdown",
   "metadata": {},
   "source": [
    "And there you have it - your own little bot to keep you on the top of the rental market."
   ]
  }
 ],
 "metadata": {
  "kernelspec": {
   "display_name": "Python 2",
   "language": "python",
   "name": "python2"
  },
  "language_info": {
   "codemirror_mode": {
    "name": "ipython",
    "version": 2
   },
   "file_extension": ".py",
   "mimetype": "text/x-python",
   "name": "python",
   "nbconvert_exporter": "python",
   "pygments_lexer": "ipython2",
   "version": "2.7.10"
  }
 },
 "nbformat": 4,
 "nbformat_minor": 0
}
