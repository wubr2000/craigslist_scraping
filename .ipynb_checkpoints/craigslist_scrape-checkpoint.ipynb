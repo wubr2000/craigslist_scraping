{
 "cells": [
  {
   "cell_type": "markdown",
   "metadata": {
    "collapsed": true
   },
   "source": [
    "## Overview\n",
    "In this notebook, I'll show you how to make a simple query on Craigslist using some nifty python modules. You can take advantage of all the structure data that exists on webpages to collect interesting datasets."
   ]
  },
  {
   "cell_type": "code",
   "execution_count": 1,
   "metadata": {
    "collapsed": false
   },
   "outputs": [
    {
     "name": "stdout",
     "output_type": "stream",
     "text": [
      "Populating the interactive namespace from numpy and matplotlib\n"
     ]
    }
   ],
   "source": [
    "import pandas as pd\n",
    "%pylab inline"
   ]
  },
  {
   "cell_type": "markdown",
   "metadata": {},
   "source": [
    "First we need to figure out how to submit a query to Craigslist. As with many websites, one way you can do this is simply by constructing the proper URL and sending it to Craigslist. Here's a sample URL that is returned after manually typing in a search to Craigslist:\n",
    "> `http://sfbay.craigslist.org/search/eby/apa?bedrooms=1&pets_cat=1&pets_dog=1&is_furnished=1`\n",
    "\n",
    "This is actually two separate things. The first tells craigslist what kind of thing we're searching for:\n",
    "\n",
    "> `http://sfbay.craigslist.org/search/eby/apa` says we're searching in the sfbay area (`sfbay`) for apartments (`apa`) in the east bay (`eby`).\n",
    "\n",
    "The second part contains the parameters that we pass to the search:\n",
    "\n",
    "> `?bedrooms=1&pets_cat=1&pets_dog=1&is_furnished=1` says we want 1+ bedrooms, cats allowed, dogs allowed, and furnished apartments. You can manually change these fields in order to create new queries.\n",
    "\n",
    "## Getting a single posting\n",
    "\n",
    "So, we'll use this knowledge to send some custom URLs to Craigslist. We'll do this using the `requests` python module, which is really useful for querying websites."
   ]
  },
  {
   "cell_type": "code",
   "execution_count": 2,
   "metadata": {
    "collapsed": true
   },
   "outputs": [],
   "source": [
    "import requests"
   ]
  },
  {
   "cell_type": "markdown",
   "metadata": {},
   "source": [
    "In internet lingo, we're posting a `get` requests to the website, which simply says that we'd like to get some information from the Craigslist website.  With requests, we can easily create a dictionary that specifies parameters in the URL:"
   ]
  },
  {
   "cell_type": "code",
   "execution_count": 3,
   "metadata": {
    "collapsed": true
   },
   "outputs": [],
   "source": [
    "url_base = 'http://sfbay.craigslist.org/search/eby/apa'\n",
    "params = dict(bedrooms=1, is_furnished=1)\n",
    "rsp = requests.get(url_base, params=params)"
   ]
  },
  {
   "cell_type": "code",
   "execution_count": 4,
   "metadata": {
    "collapsed": false
   },
   "outputs": [
    {
     "name": "stdout",
     "output_type": "stream",
     "text": [
      "http://sfbay.craigslist.org/search/eby/apa?bedrooms=1&is_furnished=1\n"
     ]
    }
   ],
   "source": [
    "# Note that requests automatically created the right URL:\n",
    "print(rsp.url)"
   ]
  },
  {
   "cell_type": "code",
   "execution_count": 5,
   "metadata": {
    "collapsed": false
   },
   "outputs": [
    {
     "name": "stdout",
     "output_type": "stream",
     "text": [
      "<!DOCTYPE html>\n",
      "\n",
      "<html class=\"no-js\"><head>\n",
      "    <title>SF bay area apartments / housing rentals  - craigslist</title>\n",
      "\n",
      "    <meta name=\"description\" content=\"SF bay area apartments / housing rentals  - craigslist\">\n",
      "    <link rel=\"canonical\" href=\"https://sfbay.craigslist.org/search/eby/apa\">\n",
      "    <link rel=\"alternate\" type=\"application/rss+xml\" href=\"https://sfbay.craigslist.org/search/eby/apa?bedrooms=1&amp;format=rss\" title=\"RSS feed for craigslist | SF bay area apartments / housing rentals  - c\n"
     ]
    }
   ],
   "source": [
    "# We can access the content of the response that Craigslist sent back here:\n",
    "print(rsp.text[:500])"
   ]
  },
  {
   "cell_type": "markdown",
   "metadata": {},
   "source": [
    "Wow, that's a lot of code. Remember, websites serve HTML documents, and usually your browser will automatically render this into a nice webpage for you. Since we're doing this with python, we get back the raw text. This is really useful, but how can we possibly parse it all?\n",
    "\n",
    "For this, we'll turn to another great package, BeautifulSoup:"
   ]
  },
  {
   "cell_type": "code",
   "execution_count": 6,
   "metadata": {
    "collapsed": false
   },
   "outputs": [
    {
     "name": "stdout",
     "output_type": "stream",
     "text": [
      "<!DOCTYPE html>\n",
      "<html class=\"no-js\">\n",
      " <head>\n",
      "  <title>\n",
      "   SF bay area apartments / housing rentals  - craigslist\n",
      "  </title>\n",
      "  <meta content=\"SF bay area apartments / housing rentals  - craigslist\" name=\"description\">\n",
      "   <link href=\"https://sfbay.craigslist.org/search/eby/apa\" rel=\"canonical\">\n",
      "    <link href=\"https://sfbay.craigslist.org/search/eby/apa?bedrooms=1&amp;format=rss\" rel=\"alternate\" title=\"RSS feed for craigslist | SF bay area apartments / housing rentals  - craigslist \" type=\"application/rss+xml\">\n",
      "     <link href=\"https://sfbay.craigslist.org/search/eby/apa?s=100&amp;bedrooms=1&amp;is_furnished=1\" rel=\"next\">\n",
      "      <meta content=\"initial-scale=1.0, user-scalable=1\" name=\"viewport\">\n",
      "       <link href=\"//www.craigslist.org/styles/cl.css?v=0b04254c2a971c33c5543fa6344f7dad\" media=\"all\" rel=\"stylesheet\" type=\"text/css\">\n",
      "        <link href=\"//www.craigslist.org/styles/tocs.css?v=5f8a8e4c2f016a0da7b16fc9394a62e9\" media=\"all\" rel=\"stylesheet\" type=\"text/css\">\n",
      "         <link href=\"/\n"
     ]
    }
   ],
   "source": [
    "from bs4 import BeautifulSoup as bs4\n",
    "\n",
    "# BS4 can quickly parse our text, make sure to tell it that you're giving html\n",
    "html = bs4(rsp.text, 'html.parser')\n",
    "\n",
    "# BS makes it easy to look through a document\n",
    "print(html.prettify()[:1000])"
   ]
  },
  {
   "cell_type": "markdown",
   "metadata": {},
   "source": [
    "Beautiful soup lets us quickly search through an HTML document. We can pull out whatever information we want.\n",
    "\n",
    "Scanning through this text, we see a common structure repeated `<p class=\"row\">`. This seems to be the container that has information for a single apartment.\n",
    "\n",
    "In BeautifulSoup, we can quickly get all instances of this container:"
   ]
  },
  {
   "cell_type": "code",
   "execution_count": 7,
   "metadata": {
    "collapsed": false
   },
   "outputs": [
    {
     "name": "stdout",
     "output_type": "stream",
     "text": [
      "100\n"
     ]
    }
   ],
   "source": [
    "# find_all will pull entries that fit your search criteria.\n",
    "# Note that we have to use brackets to define the `attrs` dictionary\n",
    "# Because \"class\" is a special word in python, so we need to give a string.\n",
    "apts = html.find_all('p', attrs={'class': 'row'})\n",
    "print(len(apts))"
   ]
  },
  {
   "cell_type": "markdown",
   "metadata": {},
   "source": [
    "Now let's look inside the values of a single apartment listing:"
   ]
  },
  {
   "cell_type": "code",
   "execution_count": 8,
   "metadata": {
    "collapsed": false
   },
   "outputs": [
    {
     "name": "stdout",
     "output_type": "stream",
     "text": [
      "<p class=\"row\" data-pid=\"5239013910\" data-repost-of=\"5194086170\">\n",
      " <a class=\"i\" data-ids=\"0:00H0H_e97QtyOdlhN,0:00I0I_fS9yNsLDk7A,0:00v0v_9mbha8N4QeY,0:00W0W_jRJ8xKVJMS6,0:00j0j_jIieQ8waokp,0:00P0P_hPuZa9nhDfo,0:00S0S_k1ZaYEmsjrY,0:01212_6nbqE4MMl5d,0:00i0i_eT5MCz1a3eE,0:00u0u_jgh4QxmMFtI,0:00l0l_2vVn2mbQNuq,0:00M0M_a0VEzxeHp3x,0:00L0L_br31IJlaSG5,0:00G0G_490A8wgC1GA,0:00p0p_ftp7UHDBqTP,0:00L0L_kHHcQ2tSBuj,0:00j0j_hSkl7TyFA3f,0:01111_cqh72CuVtcI,0:00L0L_d5CZiy9kzG5,0:00e0e_czSmTxWkmQW,0:00P0P_cHmhV8kInPv,0:00i0i_2CaGbqZoWJl,0:00v0v_deBTPaBN6HC,0:00404_lOFleHzcoQm\" href=\"/eby/apa/5239013910.html\">\n",
      " </a>\n",
      " <span class=\"txt\">\n",
      "  <span class=\"star\">\n",
      "  </span>\n",
      "  <span class=\"pl\">\n",
      "   <time datetime=\"2015-09-25 14:36\" title=\"Fri 25 Sep 02:36:09 PM\">\n",
      "    Sep 25\n",
      "   </time>\n",
      "   <a class=\"hdrlnk\" data-id=\"5239013910\" href=\"/eby/apa/5239013910.html\">\n",
      "    大房出租 Furnitured House 5B/3B/3G For Rent at San Ramon\n",
      "   </a>\n",
      "  </span>\n",
      "  <span class=\"l2\">\n",
      "   <span class=\"price\">\n",
      "    $4900\n",
      "   </span>\n",
      "   <span class=\"housing\">\n",
      "    / 5br - 2720ft\n",
      "    <sup>\n",
      "     2\n",
      "    </sup>\n",
      "    -\n",
      "   </span>\n",
      "   <span class=\"pnr\">\n",
      "    <small>\n",
      "     (danville / san ramon)\n",
      "    </small>\n",
      "    <span class=\"px\">\n",
      "     <span class=\"p\">\n",
      "      pic\n",
      "      <span class=\"maptag\" data-pid=\"5239013910\">\n",
      "       map\n",
      "      </span>\n",
      "     </span>\n",
      "    </span>\n",
      "   </span>\n",
      "  </span>\n",
      "  <span class=\"js-only banish-unbanish no-mobile\">\n",
      "   [\n",
      "   <a class=\"banish\" data-pid=\"5239013910\" title=\"hide\">\n",
      "    x\n",
      "   </a>\n",
      "   <a class=\"unbanish linklike\" data-pid=\"5239013910\" title=\"unhide\">\n",
      "    undo\n",
      "   </a>\n",
      "   ]\n",
      "  </span>\n",
      " </span>\n",
      "</p>\n",
      "\n"
     ]
    }
   ],
   "source": [
    "# We can see that there's a consistent structure to a listing.\n",
    "# There is a 'time', a 'name', a 'housing' field with size/n_brs, etc.\n",
    "this_appt = apts[15]\n",
    "print(this_appt.prettify())"
   ]
  },
  {
   "cell_type": "code",
   "execution_count": 9,
   "metadata": {
    "collapsed": false
   },
   "outputs": [
    {
     "name": "stdout",
     "output_type": "stream",
     "text": [
      "/ 5br - 2720ft2 - \n"
     ]
    }
   ],
   "source": [
    "# So now we'll pull out a couple of things we might be interested in:\n",
    "# It looks like \"housing\" contains size information. We'll pull that.\n",
    "# Note that `findAll` returns a list, since there's only one entry in\n",
    "# this HTML, we'll just pull the first item.\n",
    "size = this_appt.findAll(attrs={'class': 'housing'})[0].text\n",
    "print(size)"
   ]
  },
  {
   "cell_type": "markdown",
   "metadata": {},
   "source": [
    "We can query split this into n_bedrooms and the size. However, note that sometimes one of these features might be missing. So we'll use an `if` statement to try and capture this variability:"
   ]
  },
  {
   "cell_type": "code",
   "execution_count": 13,
   "metadata": {
    "collapsed": false
   },
   "outputs": [],
   "source": [
    "def find_size_and_brs(size):\n",
    "    split = size.strip('/- ').split(' - ')\n",
    "    if len(split) == 2:\n",
    "        n_brs = split[0].replace('br', '')\n",
    "        this_size = split[1].replace('ft2', '')\n",
    "    elif 'br' in split[0]:\n",
    "        # It's the n_bedrooms\n",
    "        n_brs = split[0].replace('br', '')\n",
    "        this_size = np.nan\n",
    "    elif 'ft2' in split[0]:\n",
    "        # It's the size\n",
    "        this_size = split[0].replace('ft2', '')\n",
    "        n_brs = np.nan\n",
    "    return float(this_size), float(n_brs)\n",
    "this_size, n_brs = find_size_and_brs(size)"
   ]
  },
  {
   "cell_type": "code",
   "execution_count": 14,
   "metadata": {
    "collapsed": true
   },
   "outputs": [],
   "source": [
    "# Now we'll also pull a few other things:\n",
    "this_time = this_appt.find('time')['datetime']\n",
    "this_time = pd.to_datetime(this_time)\n",
    "this_price = float(this_appt.find('span', {'class': 'price'}).text.strip('$'))\n",
    "this_title = this_appt.find('a', attrs={'class': 'hdrlnk'}).text"
   ]
  },
  {
   "cell_type": "code",
   "execution_count": 15,
   "metadata": {
    "collapsed": false
   },
   "outputs": [
    {
     "name": "stdout",
     "output_type": "stream",
     "text": [
      "2720.0\n",
      "5.0\n",
      "2015-09-25 14:36:00\n",
      "4900.0\n",
      "大房出租 Furnitured House 5B/3B/3G For Rent at San Ramon\n"
     ]
    }
   ],
   "source": [
    "# Now we've got the n_bedrooms, size, price, and time of listing\n",
    "print('\\n'.join([unicode(i) for i in [this_size, n_brs, this_time, this_price, this_title]]))"
   ]
  },
  {
   "cell_type": "markdown",
   "metadata": {},
   "source": [
    "## Querying lots of postings\n",
    "\n",
    "Cool - so now we've got some useful information about one listing. Now let's loop through many listings across several locations.\n",
    "\n",
    "It looks like there is a \"city code\" that distinguishes where you're searching. Here is a **not** up to date list: [link](https://sites.google.com/site/clsiteinfo/city-site-code-sort)\n",
    "\n",
    "Within the Bay Area, there are also a lot of sub-regional locations, which we'll define here, then loop through them all.\n",
    "\n",
    "Note that the `s` parameter tells Craiglist where to start in terms of the number of results given back. E.g., if s==100, then it starts at the 100th entry."
   ]
  },
  {
   "cell_type": "code",
   "execution_count": 16,
   "metadata": {
    "collapsed": true
   },
   "outputs": [],
   "source": [
    "loc_prefixes = ['eby', 'nby', 'sfc', 'sby', 'scz']"
   ]
  },
  {
   "cell_type": "markdown",
   "metadata": {},
   "source": [
    "We'll define a few helper functions to handle edge cases and make sure that we don't get any errors."
   ]
  },
  {
   "cell_type": "code",
   "execution_count": 17,
   "metadata": {
    "collapsed": false
   },
   "outputs": [],
   "source": [
    "def find_prices(results):\n",
    "    prices = []\n",
    "    for rw in results:\n",
    "        price = rw.find('span', {'class': 'price'})\n",
    "        if price is not None:\n",
    "            price = float(price.text.strip('$'))\n",
    "        else:\n",
    "            price = np.nan\n",
    "        prices.append(price)\n",
    "    return prices\n",
    "\n",
    "def find_times(results):\n",
    "    times = []\n",
    "    for rw in apts:\n",
    "        if time is not None:\n",
    "            time = time['datetime']\n",
    "            time = pd.to_datetime(time)\n",
    "        else:\n",
    "            time = np.nan\n",
    "        times.append(time)\n",
    "    return times"
   ]
  },
  {
   "cell_type": "markdown",
   "metadata": {},
   "source": [
    "Now we're ready to go. We'll loop through all of our locations, and pull a number of entries for each one. We'll use a pandas dataframe to store everything, because this will be useful for future analysis.\n",
    "\n",
    "**Note** - Craigslist won't take kindly to you querying their server a bunch of times at once. Make sure not to pull too much data too quickly. Another option is to add a delay to each loop iteration. Otherwise your IP might get banned."
   ]
  },
  {
   "cell_type": "code",
   "execution_count": 18,
   "metadata": {
    "collapsed": false
   },
   "outputs": [
    {
     "name": "stdout",
     "output_type": "stream",
     "text": [
      "eby\n",
      "nby\n",
      "sfc\n",
      "sby\n",
      "scz\n"
     ]
    }
   ],
   "source": [
    "# Now loop through all of this and store the results\n",
    "results = []  # We'll store the data here\n",
    "# Careful with this...too many queries == your IP gets banned temporarily\n",
    "search_indices = np.arange(0, 300, 100)\n",
    "for loc in loc_prefixes:\n",
    "    print loc\n",
    "    for i in search_indices:\n",
    "        url = 'http://sfbay.craigslist.org/search/{0}/apa'.format(loc)\n",
    "        resp = requests.get(url, params={'bedrooms': 1, 's': i})\n",
    "        txt = bs4(resp.text, 'html.parser')\n",
    "        apts = txt.findAll(attrs={'class': \"row\"})\n",
    "        \n",
    "        # Find the size of all entries\n",
    "        size_text = [rw.findAll(attrs={'class': 'housing'})[0].text\n",
    "                     for rw in apts]\n",
    "        sizes_brs = [find_size_and_brs(stxt) for stxt in size_text]\n",
    "        sizes, n_brs = zip(*sizes_brs)  # This unzips into 2 vectors\n",
    "     \n",
    "        # Find the title and link\n",
    "        title = [rw.find('a', attrs={'class': 'hdrlnk'}).text\n",
    "                      for rw in apts]\n",
    "        links = [rw.find('a', attrs={'class': 'hdrlnk'})['href']\n",
    "                 for rw in apts]\n",
    "        \n",
    "        # Find the time\n",
    "        time = [pd.to_datetime(rw.find('time')['datetime']) for rw in apts]\n",
    "        price = find_prices(apts)\n",
    "        \n",
    "        # We'll create a dataframe to store all the data\n",
    "        data = np.array([time, price, sizes, n_brs, title, links])\n",
    "        col_names = ['time', 'price', 'size', 'brs', 'title', 'link']\n",
    "        df = pd.DataFrame(data.T, columns=col_names)\n",
    "        df = df.set_index('time')\n",
    "        \n",
    "        # Add the location variable to all entries\n",
    "        df['loc'] = loc\n",
    "        results.append(df)\n",
    "        \n",
    "# Finally, concatenate all the results\n",
    "results = pd.concat(results, axis=0)"
   ]
  },
  {
   "cell_type": "code",
   "execution_count": 19,
   "metadata": {
    "collapsed": false
   },
   "outputs": [
    {
     "name": "stderr",
     "output_type": "stream",
     "text": [
      "/Users/wubr2000/anaconda/lib/python2.7/site-packages/pandas/util/decorators.py:89: FutureWarning: the 'convert_numeric' keyword is deprecated, use 'numeric' instead\n",
      "  return func(*args, **kwargs)\n"
     ]
    }
   ],
   "source": [
    "# We'll make sure that the right columns are represented numerically:\n",
    "results[['price', 'size', 'brs']] = results[['price', 'size', 'brs']].convert_objects(convert_numeric=True)"
   ]
  },
  {
   "cell_type": "code",
   "execution_count": 20,
   "metadata": {
    "collapsed": false
   },
   "outputs": [
    {
     "data": {
      "text/html": [
       "<div>\n",
       "<table border=\"1\" class=\"dataframe\">\n",
       "  <thead>\n",
       "    <tr style=\"text-align: right;\">\n",
       "      <th></th>\n",
       "      <th>price</th>\n",
       "      <th>size</th>\n",
       "      <th>brs</th>\n",
       "      <th>title</th>\n",
       "      <th>link</th>\n",
       "      <th>loc</th>\n",
       "    </tr>\n",
       "    <tr>\n",
       "      <th>time</th>\n",
       "      <th></th>\n",
       "      <th></th>\n",
       "      <th></th>\n",
       "      <th></th>\n",
       "      <th></th>\n",
       "      <th></th>\n",
       "    </tr>\n",
       "  </thead>\n",
       "  <tbody>\n",
       "    <tr>\n",
       "      <th>2015-09-26 07:24:00</th>\n",
       "      <td>1175</td>\n",
       "      <td>NaN</td>\n",
       "      <td>1</td>\n",
       "      <td>North camino alto vallejo gated complex</td>\n",
       "      <td>/eby/apa/5239761933.html</td>\n",
       "      <td>eby</td>\n",
       "    </tr>\n",
       "    <tr>\n",
       "      <th>2015-09-26 07:21:00</th>\n",
       "      <td>1900</td>\n",
       "      <td>725</td>\n",
       "      <td>1</td>\n",
       "      <td>Luxurious living at the Meridian</td>\n",
       "      <td>/eby/apa/5214822762.html</td>\n",
       "      <td>eby</td>\n",
       "    </tr>\n",
       "    <tr>\n",
       "      <th>2015-09-26 07:21:00</th>\n",
       "      <td>2400</td>\n",
       "      <td>850</td>\n",
       "      <td>2</td>\n",
       "      <td>Enjoy living at the Meridian</td>\n",
       "      <td>/eby/apa/5219013199.html</td>\n",
       "      <td>eby</td>\n",
       "    </tr>\n",
       "    <tr>\n",
       "      <th>2015-09-26 07:19:00</th>\n",
       "      <td>1895</td>\n",
       "      <td>759</td>\n",
       "      <td>2</td>\n",
       "      <td>Townhouse near Mills college. Pets okay. Open ...</td>\n",
       "      <td>/eby/apa/5239755798.html</td>\n",
       "      <td>eby</td>\n",
       "    </tr>\n",
       "    <tr>\n",
       "      <th>2015-09-26 07:18:00</th>\n",
       "      <td>1895</td>\n",
       "      <td>759</td>\n",
       "      <td>2</td>\n",
       "      <td>Townhouse near Mills college. Pets okay. Priva...</td>\n",
       "      <td>/eby/apa/5239753928.html</td>\n",
       "      <td>eby</td>\n",
       "    </tr>\n",
       "  </tbody>\n",
       "</table>\n",
       "</div>"
      ],
      "text/plain": [
       "                     price  size  brs  \\\n",
       "time                                    \n",
       "2015-09-26 07:24:00   1175   NaN    1   \n",
       "2015-09-26 07:21:00   1900   725    1   \n",
       "2015-09-26 07:21:00   2400   850    2   \n",
       "2015-09-26 07:19:00   1895   759    2   \n",
       "2015-09-26 07:18:00   1895   759    2   \n",
       "\n",
       "                                                                 title  \\\n",
       "time                                                                     \n",
       "2015-09-26 07:24:00            North camino alto vallejo gated complex   \n",
       "2015-09-26 07:21:00                   Luxurious living at the Meridian   \n",
       "2015-09-26 07:21:00                       Enjoy living at the Meridian   \n",
       "2015-09-26 07:19:00  Townhouse near Mills college. Pets okay. Open ...   \n",
       "2015-09-26 07:18:00  Townhouse near Mills college. Pets okay. Priva...   \n",
       "\n",
       "                                         link  loc  \n",
       "time                                                \n",
       "2015-09-26 07:24:00  /eby/apa/5239761933.html  eby  \n",
       "2015-09-26 07:21:00  /eby/apa/5214822762.html  eby  \n",
       "2015-09-26 07:21:00  /eby/apa/5219013199.html  eby  \n",
       "2015-09-26 07:19:00  /eby/apa/5239755798.html  eby  \n",
       "2015-09-26 07:18:00  /eby/apa/5239753928.html  eby  "
      ]
     },
     "execution_count": 20,
     "metadata": {},
     "output_type": "execute_result"
    }
   ],
   "source": [
    "# And there you have it:\n",
    "results.head()"
   ]
  },
  {
   "cell_type": "code",
   "execution_count": 22,
   "metadata": {
    "collapsed": false
   },
   "outputs": [
    {
     "data": {
      "image/png": "[encoded data removed]",
      "text/plain": [
       "<matplotlib.figure.Figure at 0x1086f48d0>"
      ]
     },
     "metadata": {},
     "output_type": "display_data"
    }
   ],
   "source": [
    "ax = results.hist('price', bins=np.arange(0, 10000, 100))[0, 0]\n",
    "ax.set_title('Mother of god.', fontsize=20)\n",
    "ax.set_xlabel('Price', fontsize=18)\n",
    "ax.set_ylabel('Count', fontsize=18);"
   ]
  },
  {
   "cell_type": "code",
   "execution_count": 23,
   "metadata": {
    "collapsed": false
   },
   "outputs": [],
   "source": [
    "# Finally, we can save this data to a CSV to play around with it later.\n",
    "# We'll have to remove some annoying characters first:\n",
    "import string\n",
    "use_chars = string.ascii_letters +\\\n",
    "    ''.join([str(i) for i in range(10)]) +\\\n",
    "    ' /\\.'\n",
    "results['title'] = results['title'].apply(\n",
    "    lambda a: ''.join([i for i in a if i in use_chars]))\n",
    "\n",
    "results.to_csv('craigslist_results.csv')"
   ]
  },
  {
   "cell_type": "markdown",
   "metadata": {},
   "source": [
    "## RECAP\n",
    "To sum up what we just did:\n",
    "\n",
    "* We defined the ability to query a website using a custom URL. This is usually the same in structure for website, but the parameter names will be different.\n",
    "* We sent a `get` request to Craigslist using the `requests` module of python.\n",
    "* We parsed the response using `BeautifulSoup4`.\n",
    "* We then looped through a bunch of apartment listings, pulled some relevant data, and combined it all into a cleaned and usable dataframe with `pandas`.\n",
    "\n",
    "Next up I'll take a look at the data, and see if there's anything interesting to make of it."
   ]
  },
  {
   "cell_type": "markdown",
   "metadata": {},
   "source": [
    "## Bonus - auto-emailing yourself w/ notifications\n",
    "A few people have asked me about using this kind of process to make a bot that scrapes craigslist periodically. This is actually quite simple, as it basically involves pulling the top listings from craigslist, checking this against an \"old\" list, and detecting if there's anything new that has popped up since the last time you checked.\n",
    "\n",
    "Here's a simple script that will get the job done. Once again, don't pull too much data at once, and don't query Craigslist too frequently, or you're gonna get banned."
   ]
  },
  {
   "cell_type": "code",
   "execution_count": 25,
   "metadata": {
    "collapsed": false
   },
   "outputs": [],
   "source": [
    "# We'll use the ç (there really is a module for everything in python)\n",
    "import gmail\n",
    "import time"
   ]
  },
  {
   "cell_type": "code",
   "execution_count": 41,
   "metadata": {
    "collapsed": false
   },
   "outputs": [],
   "source": [
    "gm = gmail.GMail('wubr2000', 'password')\n",
    "gm.connect()"
   ]
  },
  {
   "cell_type": "code",
   "execution_count": 39,
   "metadata": {
    "collapsed": false
   },
   "outputs": [],
   "source": [
    "# Define our URL and a query we want to post\n",
    "base_url = 'http://sfbay.craigslist.org/'\n",
    "url = base_url + 'search/eby/apa?nh=48&anh=49&nh=112&nh=58&nh=61&nh=62&nh=66&max_price=2200&bedrooms=1'\n",
    "\n",
    "# This will remove weird characters that people put in titles like ****!***!!!\n",
    "use_chars = string.ascii_letters + ''.join([str(i) for i in range(10)]) + ' '"
   ]
  },
  {
   "cell_type": "code",
   "execution_count": 40,
   "metadata": {
    "collapsed": false
   },
   "outputs": [
    {
     "name": "stdout",
     "output_type": "stream",
     "text": [
      "Found new listing\n",
      "Found new listing\n",
      "Found new listing\n",
      "Found new listing\n",
      "Found new listing\n",
      "Found new listing\n",
      "Found new listing\n",
      "Found new listing\n",
      "Found new listing\n",
      "Found new listing\n",
      "Found new listing\n",
      "Found new listing\n",
      "Found new listing\n",
      "Found new listing\n",
      "Found new listing\n",
      "Found new listing\n",
      "Found new listing\n",
      "Found new listing\n",
      "Found new listing\n",
      "Found new listing\n",
      "Found new listing\n",
      "Found new listing\n",
      "Found new listing\n",
      "Found new listing\n",
      "Found new listing\n",
      "Found new listing\n",
      "Found new listing\n",
      "Found new listing\n",
      "Found new listing\n",
      "Found new listing\n",
      "Found new listing\n",
      "Found new listing\n",
      "Found new listing\n",
      "Found new listing\n",
      "Found new listing\n",
      "Found new listing\n",
      "Found new listing\n",
      "Found new listing\n",
      "Found new listing\n",
      "Found new listing\n",
      "Found new listing\n",
      "Found new listing\n",
      "Found new listing\n",
      "Found new listing\n",
      "Found new listing\n",
      "Found new listing\n",
      "Found new listing\n",
      "Found new listing\n",
      "Found new listing\n",
      "Found new listing\n",
      "Found new listing\n",
      "Found new listing\n",
      "Found new listing\n",
      "Found new listing\n",
      "Found new listing\n",
      "Found new listing\n",
      "Found new listing\n",
      "Found new listing\n",
      "Found new listing\n",
      "Found new listing\n",
      "Found new listing\n",
      "Found new listing\n",
      "Found new listing\n",
      "Found new listing\n",
      "Found new listing\n",
      "Found new listing\n",
      "Found new listing\n",
      "Found new listing\n",
      "Found new listing\n",
      "Found new listing\n",
      "Found new listing\n",
      "Found new listing\n",
      "Found new listing\n",
      "Found new listing\n",
      "Found new listing\n",
      "Found new listing\n",
      "Found new listing\n",
      "Found new listing\n",
      "Found new listing\n",
      "Found new listing\n",
      "Found new listing\n",
      "Found new listing\n",
      "Found new listing\n",
      "Found new listing\n",
      "Found new listing\n",
      "Found new listing\n",
      "Found new listing\n",
      "Found new listing\n",
      "Found new listing\n",
      "Found new listing\n",
      "Found new listing\n",
      "Found new listing\n",
      "Found new listing\n",
      "Found new listing\n",
      "Found new listing\n",
      "Found new listing\n",
      "Found new listing\n",
      "Found new listing\n",
      "Found new listing\n",
      "Found new listing\n",
      "Sending mail!\n"
     ]
    },
    {
     "ename": "KeyboardInterrupt",
     "evalue": "",
     "output_type": "error",
     "traceback": [
      "\u001b[0;31m---------------------------------------------------------------------------\u001b[0m",
      "\u001b[0;31mKeyboardInterrupt\u001b[0m                         Traceback (most recent call last)",
      "\u001b[0;32m<ipython-input-40-4da41b65949d>\u001b[0m in \u001b[0;36m<module>\u001b[0;34m()\u001b[0m\n\u001b[1;32m     32\u001b[0m     \u001b[0;31m# Sleep a bit so CL doesn't ban us\u001b[0m\u001b[0;34m\u001b[0m\u001b[0;34m\u001b[0m\u001b[0m\n\u001b[1;32m     33\u001b[0m     \u001b[0msleep_amt\u001b[0m \u001b[0;34m=\u001b[0m \u001b[0mnp\u001b[0m\u001b[0;34m.\u001b[0m\u001b[0mrandom\u001b[0m\u001b[0;34m.\u001b[0m\u001b[0mrandint\u001b[0m\u001b[0;34m(\u001b[0m\u001b[0;36m60\u001b[0m\u001b[0;34m,\u001b[0m \u001b[0;36m120\u001b[0m\u001b[0;34m)\u001b[0m\u001b[0;34m\u001b[0m\u001b[0m\n\u001b[0;32m---> 34\u001b[0;31m     \u001b[0mtime\u001b[0m\u001b[0;34m.\u001b[0m\u001b[0msleep\u001b[0m\u001b[0;34m(\u001b[0m\u001b[0msleep_amt\u001b[0m\u001b[0;34m)\u001b[0m\u001b[0;34m\u001b[0m\u001b[0m\n\u001b[0m",
      "\u001b[0;31mKeyboardInterrupt\u001b[0m: "
     ]
    }
   ],
   "source": [
    "link_list = []  # We'll store the data here\n",
    "link_list_send = []  # This is a list of links to be sent\n",
    "send_list = []  # This is what will actually be sent in the email\n",
    "\n",
    "# Careful with this...too many queries == your IP gets banned temporarily\n",
    "while True:\n",
    "    resp = requests.get(url)\n",
    "    txt = bs4(resp.text, 'html.parser')\n",
    "    apts = txt.findAll(attrs={'class': \"row\"})\n",
    "    \n",
    "    # We're just going to pull the title and link\n",
    "    for apt in apts:\n",
    "        title = apt.find_all('a', attrs={'class': 'hdrlnk'})[0]\n",
    "        name = ''.join([i for i in title.text if i in use_chars])\n",
    "        link = title.attrs['href']\n",
    "        if link not in link_list and link not in link_list_send:\n",
    "            print('Found new listing')\n",
    "            link_list_send.append(link)\n",
    "            send_list.append(name + '  -  ' + base_url+link)\n",
    "            \n",
    "    # Flush the cache if we've found new entries\n",
    "    if len(link_list_send) > 0:\n",
    "        print('Sending mail!')\n",
    "        msg = '\\n'.join(send_list)\n",
    "        m = gmail.message.Message('wubr2000','phantommenace')\n",
    "        m.set_payload(msg)\n",
    "        gm.send(m, ['wubr2000@gmail.com'])\n",
    "        link_list += link_list_send\n",
    "        link_list_send = []\n",
    "        send_list = []\n",
    "    \n",
    "    # Sleep a bit so CL doesn't ban us\n",
    "    sleep_amt = np.random.randint(60, 120)\n",
    "    time.sleep(sleep_amt)"
   ]
  },
  {
   "cell_type": "markdown",
   "metadata": {},
   "source": [
    "And there you have it - your own little bot to keep you on the top of the rental market."
   ]
  }
 ],
 "metadata": {
  "kernelspec": {
   "display_name": "Python 2",
   "language": "python",
   "name": "python2"
  },
  "language_info": {
   "codemirror_mode": {
    "name": "ipython",
    "version": 2
   },
   "file_extension": ".py",
   "mimetype": "text/x-python",
   "name": "python",
   "nbconvert_exporter": "python",
   "pygments_lexer": "ipython2",
   "version": "2.7.10"
  }
 },
 "nbformat": 4,
 "nbformat_minor": 0
}
